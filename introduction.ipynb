{
 "cells": [
  {
   "cell_type": "markdown",
   "metadata": {
    "collapsed": true
   },
   "source": [
    "<b>Introduction</b>\n",
    "\n",
    "The city of NewYork is one the most developed cities in the United States of America. As it is highly developed so cost of doing business is also one of the highest. Thus any new business venture has to undergo some sort of Analysis.\n",
    "\n",
    "<b>Business Problem </b>\n",
    "\n",
    "Sushi has become a very common cuisine. So starting a sushi restaurant in NewYork can be a great business oppurtunity.\n",
    "\n",
    "<b>Location analysis </b>\n",
    "\n",
    "Analysis of the location is very important as it becomes a strategic point as to keep the prices, on raw materials, and the cost of each dish. This would help maximize profits.\n",
    "\n",
    "<b>Target audience</b>\n",
    "\n",
    "The objective is to locate and recommend to the management which neighborhood of Newyork city will be best choice to start a restaurant. The Management also expects to understand the rationale of the recommendations made.\n",
    "\n",
    "This would interest anyone who wants to start a new restaurant in Newyork city."
   ]
  },
  {
   "cell_type": "code",
   "execution_count": null,
   "metadata": {},
   "outputs": [],
   "source": []
  }
 ],
 "metadata": {
  "kernelspec": {
   "display_name": "Python 3.6",
   "language": "python",
   "name": "python3"
  },
  "language_info": {
   "codemirror_mode": {
    "name": "ipython",
    "version": 3
   },
   "file_extension": ".py",
   "mimetype": "text/x-python",
   "name": "python",
   "nbconvert_exporter": "python",
   "pygments_lexer": "ipython3",
   "version": "3.6.8"
  }
 },
 "nbformat": 4,
 "nbformat_minor": 1
}
